{
 "cells": [
  {
   "cell_type": "code",
   "execution_count": 1,
   "metadata": {},
   "outputs": [],
   "source": [
    "import pandas as pd\n",
    "from gensim.corpora.dictionary import Dictionary\n",
    "import re\n",
    "import numpy as np\n",
    "from nltk.corpus import stopwords\n",
    "import nltk\n",
    "from razdel import tokenize\n",
    "import pymorphy2 \n",
    "from gensim.models import LdaModel\n",
    "from gensim.test.utils import datapath\n",
    "\n",
    "from sklearn.linear_model import LogisticRegression\n",
    "from sklearn.model_selection import train_test_split\n",
    "from sklearn.metrics import f1_score, roc_auc_score, precision_score, classification_report, precision_recall_curve, confusion_matrix\n",
    "import itertools\n",
    "import matplotlib.pyplot as plt\n",
    "%matplotlib inline"
   ]
  },
  {
   "cell_type": "code",
   "execution_count": 2,
   "metadata": {},
   "outputs": [],
   "source": [
    "#nltk.download('stopwords')"
   ]
  },
  {
   "cell_type": "code",
   "execution_count": 3,
   "metadata": {},
   "outputs": [],
   "source": [
    "class DataPreprocessor:\n",
    "    def __init__(self, language='russian'):\n",
    "        self.stopwords = stopwords.words(language)\n",
    "        self.morph = pymorphy2.MorphAnalyzer()\n",
    "        self.cache = {}\n",
    "        \n",
    "    def clean_text(self, text):\n",
    "        if not isinstance(text, str):\n",
    "            text = str(text)\n",
    "        text = text.lower()\n",
    "        text = text.strip('\\n').strip('\\r').strip('\\t')\n",
    "        text = re.sub(\"-\\s\\r\\n\\|-\\s\\r\\n|\\r\\n\", '', str(text))\n",
    "        text = re.sub(\"[0-9]|[-—.,:;_%©«»?*!@#№$^•·&()]|[+=]|[[]|[]]|[/]|\", '', text)\n",
    "        text = re.sub(r\"\\r\\n\\t|\\n|\\\\s|\\r\\t|\\\\n\", ' ', text)\n",
    "        text = re.sub(r'[\\xad]|[\\s+]', ' ', text.strip())\n",
    "        return text\n",
    "\n",
    "    def lemmatization(self, text):\n",
    "        if not isinstance(text, str):\n",
    "            text = str(text)\n",
    "        tokens = list(tokenize(text))\n",
    "        words = [_.text for _ in tokens]\n",
    "        words_lem = []\n",
    "        for w in words:\n",
    "            if w[0] == '-':\n",
    "                w = w[1:]\n",
    "            if len(w)>1:\n",
    "                if w in self.cache:\n",
    "                    words_lem.append(self.cache[w])\n",
    "                else:\n",
    "                    temp_cach = self.cache[w] = self.morph.parse(w)[0].normal_form\n",
    "                    words_lem.append(temp_cach)\n",
    "        words_lem_without_stopwords=[i for i in words_lem if not i in self.stopwords]\n",
    "        return words_lem_without_stopwords\n",
    "    \n",
    "    def preprocess(self, data, selector):\n",
    "        data[selector] = data[selector].apply(lambda x: self.clean_text(x), 1)\n",
    "        data[selector] = data[selector].apply(lambda x: self.lemmatization(x), 1)"
   ]
  },
  {
   "cell_type": "code",
   "execution_count": 4,
   "metadata": {},
   "outputs": [],
   "source": [
    "class TopicModeler:\n",
    "    def __init__(self, num_topics, embedding_function):\n",
    "        self.model = None\n",
    "        self.num_topics = num_topics\n",
    "        self.doc_topics = None\n",
    "        self.common_dictionary = None\n",
    "        self.embedding_function = embedding_function\n",
    "        \n",
    "    def fit(self, data, selector, random_state=42):\n",
    "        texts = [t for t in data[selector].values]\n",
    "        self.common_dictionary = Dictionary(texts)\n",
    "        common_corpus = [self.common_dictionary.doc2bow(text) for text in texts]\n",
    "        self.model = LdaModel(common_corpus, num_topics=self.num_topics, id2word=self.common_dictionary, random_state=random_state)\n",
    "    \n",
    "    def show_topics(self, num_words=8):\n",
    "        x = self.model.show_topics(num_topics=self.num_topics, num_words=num_words, formatted=False)\n",
    "        topics_words = [(tp[0], [wd[0] for wd in tp[1]]) for tp in x]\n",
    "        for topic, words in topics_words:\n",
    "            print(f\"topic_{topic}: {' '.join(words)}\")\n",
    "            \n",
    "    def _get_lda_vector(self, text):\n",
    "        unseen_doc = self.common_dictionary.doc2bow(text)\n",
    "        lda_tuple = self.model[unseen_doc]\n",
    "        not_null_topics = dict(zip([i[0] for i in lda_tuple], [i[1] for i in lda_tuple]))\n",
    "        output_vector = []\n",
    "        for i in range(self.num_topics):\n",
    "            if i not in not_null_topics:\n",
    "                output_vector.append(0)\n",
    "            else:\n",
    "                output_vector.append(not_null_topics[i])\n",
    "        return np.array(output_vector)\n",
    "    \n",
    "    def calc_topic_matrix(self, data, id_selector, data_selector):\n",
    "        topic_matrix = pd.DataFrame([self._get_lda_vector(text) for text in news[data_selector].values])\n",
    "        topic_matrix.columns = [f'topic_{i}'for i in range(self.num_topics)]\n",
    "        topic_matrix[id_selector] = data[id_selector].values\n",
    "        topic_matrix = topic_matrix[[id_selector]+[f'topic_{i}'for i in range(self.num_topics)]]\n",
    "        self.doc_topics = dict(zip(topic_matrix['doc_id'].values, topic_matrix[[f'topic_{i}' for i in range(self.num_topics)]].values))\n",
    "        return topic_matrix\n",
    "    \n",
    "    def _get_user_embedding(self, user_articles_list):\n",
    "        user_articles_list = eval(user_articles_list)\n",
    "        user_vector = np.array([self.doc_topics[doc_id] for doc_id in user_articles_list])\n",
    "        user_vector = self.embedding_function(user_vector, 0)\n",
    "        return user_vector\n",
    "    \n",
    "    def get_user_embeddings(self, users_articles_data, id_selector, articles_selector):\n",
    "        user_embeddings = pd.DataFrame([i for i in users_articles_data[articles_selector].apply(lambda x: self._get_user_embedding(x), 1)])\n",
    "        user_embeddings.columns = [f'topic_{i}' for i in range(self.num_topics)]\n",
    "        user_embeddings[id_selector] = users[id_selector].values\n",
    "        user_embeddings = user_embeddings[[id_selector]+[f'topic_{i}' for i in range(self.num_topics)]]\n",
    "        return user_embeddings"
   ]
  },
  {
   "cell_type": "code",
   "execution_count": 5,
   "metadata": {},
   "outputs": [],
   "source": [
    "def get_topic_embeddings(news, users, target_path, num_topics, embedding_function=np.mean):\n",
    "    topic_model = TopicModeler(num_topics, embedding_function)\n",
    "    topic_model.fit(news, 'title')\n",
    "    topic_model.calc_topic_matrix(news, 'doc_id', 'title')\n",
    "    user_embeddings = topic_model.get_user_embeddings(users, 'uid', 'articles')\n",
    "    \n",
    "    target = pd.read_csv(target_path)\n",
    "    X = pd.merge(user_embeddings, target, 'left')\n",
    "    return topic_model, X\n",
    "\n",
    "def plot_confusion_matrix(cm, classes,  normalize=False, title='Confusion matrix', cmap=plt.cm.Blues):\n",
    "    font = {'size' : 10}\n",
    "    plt.rc('font', **font)\n",
    "    plt.figure(figsize=(5, 4))\n",
    "    \n",
    "    plt.imshow(cm, interpolation='nearest', cmap=cmap)\n",
    "    plt.title(title)\n",
    "    plt.colorbar()\n",
    "    tick_marks = np.arange(len(classes))\n",
    "    plt.xticks(tick_marks, classes, rotation=45)\n",
    "    plt.yticks(tick_marks, classes)\n",
    "\n",
    "    if normalize:\n",
    "        cm = cm.astype('float') / cm.sum(axis=1)[:, np.newaxis]\n",
    "        print(\"Normalized confusion matrix\")\n",
    "    else:\n",
    "        print('Confusion matrix, without normalization')\n",
    "\n",
    "    print(cm)\n",
    "    thresh = cm.max() / 2.\n",
    "    for i, j in itertools.product(range(cm.shape[0]), range(cm.shape[1])):\n",
    "        plt.text(j, i, cm[i, j],\n",
    "                 horizontalalignment=\"center\",\n",
    "                 color=\"white\" if cm[i, j] > thresh else \"black\")\n",
    "\n",
    "    plt.tight_layout()\n",
    "    plt.ylabel('True label')\n",
    "    plt.xlabel('Predicted label')\n",
    "    plt.savefig(\"conf_matrix.png\")\n",
    "    plt.show()"
   ]
  },
  {
   "cell_type": "code",
   "execution_count": 6,
   "metadata": {},
   "outputs": [],
   "source": [
    "def run(news, users, num_topics, embedding_function):\n",
    "    topic_model, X = get_topic_embeddings(news, users, \"users_churn.csv\", num_topics=num_topics, embedding_function=embedding_function)\n",
    "    X_train, X_test, y_train, y_test = train_test_split(X[['topic_{}'.format(i) for i in range(num_topics)]], \n",
    "                                                        X['churn'], random_state=0)\n",
    "    logreg = LogisticRegression()\n",
    "    logreg.fit(X_train, y_train)\n",
    "    preds = logreg.predict_proba(X_test)[:, 1]\n",
    "    precision, recall, thresholds = precision_recall_curve(y_test, preds)\n",
    "    fscore = (2 * precision * recall) / (precision + recall)\n",
    "    ix = np.argmax(fscore)\n",
    "    print('Best Threshold=%f, F-Score=%.3f, Precision=%.3f, Recall=%.3f' % (thresholds[ix], \n",
    "                                                                            fscore[ix],\n",
    "                                                                            precision[ix],\n",
    "                                                                            recall[ix]))\n",
    "\n",
    "    roc_auc = roc_auc_score(y_test, preds)\n",
    "    print(f'ROC_AUC: {roc_auc}')\n",
    "    cnf_matrix = confusion_matrix(y_test, preds>thresholds[ix])\n",
    "    plot_confusion_matrix(cnf_matrix, classes=['Non-Churn', 'churn'], title='Confusion matrix')\n",
    "    return roc_auc, fscore[ix], precision[ix], recall[ix]"
   ]
  },
  {
   "cell_type": "code",
   "execution_count": 7,
   "metadata": {},
   "outputs": [],
   "source": [
    "news = pd.read_csv(\"articles.csv\")\n",
    "users = pd.read_csv(\"users_articles.csv\")"
   ]
  },
  {
   "cell_type": "code",
   "execution_count": 8,
   "metadata": {},
   "outputs": [
    {
     "name": "stderr",
     "output_type": "stream",
     "text": [
      "<ipython-input-3-1f58c1ad8ba3>:13: FutureWarning: Possible nested set at position 39\n",
      "  text = re.sub(\"[0-9]|[-—.,:;_%©«»?*!@#№$^•·&()]|[+=]|[[]|[]]|[/]|\", '', text)\n"
     ]
    },
    {
     "name": "stdout",
     "output_type": "stream",
     "text": [
      "Wall time: 2min 50s\n"
     ]
    }
   ],
   "source": [
    "%%time\n",
    "preprocessor = DataPreprocessor()\n",
    "preprocessor.preprocess(news, 'title')"
   ]
  },
  {
   "cell_type": "code",
   "execution_count": 9,
   "metadata": {},
   "outputs": [
    {
     "data": {
      "text/plain": [
       "0        [заместитель, председатель, правительство, рф,...\n",
       "1        [матч, финал, кубок, россия, футбол, приостано...\n",
       "2        [форвард, авангард, томаш, заборский, прокомме...\n",
       "3        [главный, тренер, кубань, юрий, красножанин, п...\n",
       "4        [решение, попечительский, совет, владивостокск...\n",
       "                               ...                        \n",
       "26995    [учёный, токийский, университет, морской, наук...\n",
       "26996    [глава, кафедра, отечественный, история, xx, в...\n",
       "26997    [американский, учёный, уточнить, возраст, расп...\n",
       "26998    [последний, год, тропический, углеродный, цикл...\n",
       "26999    [жить, примерно, тыс, год, назад, территория, ...\n",
       "Name: title, Length: 27000, dtype: object"
      ]
     },
     "execution_count": 9,
     "metadata": {},
     "output_type": "execute_result"
    }
   ],
   "source": [
    "news['title']"
   ]
  },
  {
   "cell_type": "code",
   "execution_count": 10,
   "metadata": {},
   "outputs": [
    {
     "name": "stdout",
     "output_type": "stream",
     "text": [
      "Best Threshold=0.247035, F-Score=0.672, Precision=0.625, Recall=0.727\n",
      "ROC_AUC: 0.944417698703413\n",
      "Confusion matrix, without normalization\n",
      "[[1648  107]\n",
      " [  68  177]]\n"
     ]
    },
    {
     "data": {
      "image/png": "[encoded data removed]",
      "text/plain": [
       "<Figure size 360x288 with 2 Axes>"
      ]
     },
     "metadata": {
      "needs_background": "light"
     },
     "output_type": "display_data"
    }
   ],
   "source": [
    "mean_metrics = run(news, users, num_topics=25, embedding_function=np.mean)"
   ]
  },
  {
   "cell_type": "markdown",
   "metadata": {},
   "source": [
    "2. Модифицировать код функции get_user_embedding таким образом, чтобы считалось не среднее (как в примере np.mean), а медиана. Применить такое преобразование к данным, обучить модель прогнозирования оттока и посчитать метрики качества и сохранить их: roc auc, precision/recall/f_score (для 3 последних - подобрать оптимальный порог с помощью precision_recall_curve, как это делалось на уроке)"
   ]
  },
  {
   "cell_type": "code",
   "execution_count": 11,
   "metadata": {},
   "outputs": [
    {
     "name": "stdout",
     "output_type": "stream",
     "text": [
      "Best Threshold=0.281805, F-Score=0.671, Precision=0.660, Recall=0.682\n",
      "ROC_AUC: 0.9439455782312924\n",
      "Confusion matrix, without normalization\n",
      "[[1669   86]\n",
      " [  79  166]]\n"
     ]
    },
    {
     "data": {
      "image/png": "[encoded data removed]",
      "text/plain": [
       "<Figure size 360x288 with 2 Axes>"
      ]
     },
     "metadata": {
      "needs_background": "light"
     },
     "output_type": "display_data"
    }
   ],
   "source": [
    "median_metrics = run(news, users, num_topics=25, embedding_function=np.median)"
   ]
  },
  {
   "cell_type": "markdown",
   "metadata": {},
   "source": [
    "3. Повторить п.2, но используя уже не медиану, а max"
   ]
  },
  {
   "cell_type": "code",
   "execution_count": 12,
   "metadata": {},
   "outputs": [
    {
     "name": "stdout",
     "output_type": "stream",
     "text": [
      "Best Threshold=0.330245, F-Score=0.824, Precision=0.816, Recall=0.833\n",
      "ROC_AUC: 0.9760381417524274\n",
      "Confusion matrix, without normalization\n",
      "[[1709   46]\n",
      " [  42  203]]\n"
     ]
    },
    {
     "data": {
      "image/png": "[encoded data removed]",
      "text/plain": [
       "<Figure size 360x288 with 2 Axes>"
      ]
     },
     "metadata": {
      "needs_background": "light"
     },
     "output_type": "display_data"
    }
   ],
   "source": [
    "max_metrics = run(news, users, num_topics=25, embedding_function=np.max)"
   ]
  },
  {
   "cell_type": "markdown",
   "metadata": {},
   "source": [
    "4. (опциональное, если очень хочется) Воспользовавшись полученными знаниями из п.1, повторить пункт 2, но уже взвешивая новости по tfidf (подсказка: нужно получить веса-коэффициенты для каждого документа. Не все документы одинаково информативны и несут какой-то положительный сигнал). Подсказка 2 - нужен именно idf, как вес."
   ]
  },
  {
   "cell_type": "code",
   "execution_count": 13,
   "metadata": {},
   "outputs": [],
   "source": [
    "from sklearn.feature_extraction.text import TfidfVectorizer"
   ]
  },
  {
   "cell_type": "code",
   "execution_count": 14,
   "metadata": {},
   "outputs": [
    {
     "data": {
      "text/html": [
       "<div>\n",
       "<style scoped>\n",
       "    .dataframe tbody tr th:only-of-type {\n",
       "        vertical-align: middle;\n",
       "    }\n",
       "\n",
       "    .dataframe tbody tr th {\n",
       "        vertical-align: top;\n",
       "    }\n",
       "\n",
       "    .dataframe thead th {\n",
       "        text-align: right;\n",
       "    }\n",
       "</style>\n",
       "<table border=\"1\" class=\"dataframe\">\n",
       "  <thead>\n",
       "    <tr style=\"text-align: right;\">\n",
       "      <th></th>\n",
       "      <th>uid</th>\n",
       "      <th>articles</th>\n",
       "    </tr>\n",
       "  </thead>\n",
       "  <tbody>\n",
       "    <tr>\n",
       "      <th>0</th>\n",
       "      <td>u105138</td>\n",
       "      <td>[293672, 293328, 293001, 293622, 293126, 1852]</td>\n",
       "    </tr>\n",
       "    <tr>\n",
       "      <th>1</th>\n",
       "      <td>u108690</td>\n",
       "      <td>[3405, 1739, 2972, 1158, 1599, 322665]</td>\n",
       "    </tr>\n",
       "    <tr>\n",
       "      <th>2</th>\n",
       "      <td>u108339</td>\n",
       "      <td>[1845, 2009, 2356, 1424, 2939, 323389]</td>\n",
       "    </tr>\n",
       "  </tbody>\n",
       "</table>\n",
       "</div>"
      ],
      "text/plain": [
       "       uid                                        articles\n",
       "0  u105138  [293672, 293328, 293001, 293622, 293126, 1852]\n",
       "1  u108690          [3405, 1739, 2972, 1158, 1599, 322665]\n",
       "2  u108339          [1845, 2009, 2356, 1424, 2939, 323389]"
      ]
     },
     "execution_count": 14,
     "metadata": {},
     "output_type": "execute_result"
    }
   ],
   "source": [
    "users = pd.read_csv(\"users_articles.csv\")\n",
    "users.head(3)"
   ]
  },
  {
   "cell_type": "code",
   "execution_count": 15,
   "metadata": {},
   "outputs": [],
   "source": [
    "cleaned_arcicles = []\n",
    "for article in users['articles'].values:\n",
    "    cleaned_arcicles.append(re.sub(r\"[\\[\\],]\", '', article))\n",
    "vectorizer = TfidfVectorizer()\n",
    "sparce_matrix = vectorizer.fit_transform(pd.DataFrame(cleaned_arcicles)[0])"
   ]
  },
  {
   "cell_type": "code",
   "execution_count": 16,
   "metadata": {},
   "outputs": [],
   "source": [
    "idf = vectorizer.idf_\n",
    "idf_dict = dict(zip(vectorizer.get_feature_names(), idf))\n",
    "X = pd.DataFrame([[user] + eval(articles) for user, articles in zip(users['uid'],users['articles'])])\n",
    "idf_rows = []\n",
    "for row in X.iterrows():\n",
    "    idf_rows.append([row[1][0]] + [idf_dict.get(str(row[1][i]),0) for i in range(1, 7)])\n",
    "X = pd.DataFrame(idf_rows)\n",
    "X.rename(columns={0: 'uid'}, inplace=True)"
   ]
  },
  {
   "cell_type": "code",
   "execution_count": 17,
   "metadata": {},
   "outputs": [],
   "source": [
    "target = pd.read_csv(\"users_churn.csv\")\n",
    "X = pd.merge(X, target, 'left')"
   ]
  },
  {
   "cell_type": "code",
   "execution_count": 18,
   "metadata": {},
   "outputs": [
    {
     "data": {
      "text/html": [
       "<div>\n",
       "<style scoped>\n",
       "    .dataframe tbody tr th:only-of-type {\n",
       "        vertical-align: middle;\n",
       "    }\n",
       "\n",
       "    .dataframe tbody tr th {\n",
       "        vertical-align: top;\n",
       "    }\n",
       "\n",
       "    .dataframe thead th {\n",
       "        text-align: right;\n",
       "    }\n",
       "</style>\n",
       "<table border=\"1\" class=\"dataframe\">\n",
       "  <thead>\n",
       "    <tr style=\"text-align: right;\">\n",
       "      <th></th>\n",
       "      <th>uid</th>\n",
       "      <th>1</th>\n",
       "      <th>2</th>\n",
       "      <th>3</th>\n",
       "      <th>4</th>\n",
       "      <th>5</th>\n",
       "      <th>6</th>\n",
       "      <th>churn</th>\n",
       "    </tr>\n",
       "  </thead>\n",
       "  <tbody>\n",
       "    <tr>\n",
       "      <th>0</th>\n",
       "      <td>u105138</td>\n",
       "      <td>8.601027</td>\n",
       "      <td>8.377884</td>\n",
       "      <td>8.601027</td>\n",
       "      <td>9.294175</td>\n",
       "      <td>8.195562</td>\n",
       "      <td>8.601027</td>\n",
       "      <td>0</td>\n",
       "    </tr>\n",
       "    <tr>\n",
       "      <th>1</th>\n",
       "      <td>u108690</td>\n",
       "      <td>8.601027</td>\n",
       "      <td>8.888710</td>\n",
       "      <td>9.294175</td>\n",
       "      <td>8.195562</td>\n",
       "      <td>8.888710</td>\n",
       "      <td>7.790097</td>\n",
       "      <td>1</td>\n",
       "    </tr>\n",
       "    <tr>\n",
       "      <th>2</th>\n",
       "      <td>u108339</td>\n",
       "      <td>8.195562</td>\n",
       "      <td>9.294175</td>\n",
       "      <td>8.377884</td>\n",
       "      <td>8.601027</td>\n",
       "      <td>8.377884</td>\n",
       "      <td>7.790097</td>\n",
       "      <td>1</td>\n",
       "    </tr>\n",
       "    <tr>\n",
       "      <th>3</th>\n",
       "      <td>u101138</td>\n",
       "      <td>8.377884</td>\n",
       "      <td>8.195562</td>\n",
       "      <td>8.888710</td>\n",
       "      <td>8.601027</td>\n",
       "      <td>8.195562</td>\n",
       "      <td>8.377884</td>\n",
       "      <td>0</td>\n",
       "    </tr>\n",
       "    <tr>\n",
       "      <th>4</th>\n",
       "      <td>u108248</td>\n",
       "      <td>8.377884</td>\n",
       "      <td>8.041412</td>\n",
       "      <td>8.601027</td>\n",
       "      <td>8.195562</td>\n",
       "      <td>8.377884</td>\n",
       "      <td>8.041412</td>\n",
       "      <td>1</td>\n",
       "    </tr>\n",
       "    <tr>\n",
       "      <th>...</th>\n",
       "      <td>...</td>\n",
       "      <td>...</td>\n",
       "      <td>...</td>\n",
       "      <td>...</td>\n",
       "      <td>...</td>\n",
       "      <td>...</td>\n",
       "      <td>...</td>\n",
       "      <td>...</td>\n",
       "    </tr>\n",
       "    <tr>\n",
       "      <th>7995</th>\n",
       "      <td>u107463</td>\n",
       "      <td>7.589427</td>\n",
       "      <td>8.377884</td>\n",
       "      <td>7.502415</td>\n",
       "      <td>8.377884</td>\n",
       "      <td>7.907880</td>\n",
       "      <td>9.294175</td>\n",
       "      <td>0</td>\n",
       "    </tr>\n",
       "    <tr>\n",
       "      <th>7996</th>\n",
       "      <td>u101241</td>\n",
       "      <td>7.907880</td>\n",
       "      <td>8.601027</td>\n",
       "      <td>8.601027</td>\n",
       "      <td>8.195562</td>\n",
       "      <td>8.601027</td>\n",
       "      <td>9.294175</td>\n",
       "      <td>0</td>\n",
       "    </tr>\n",
       "    <tr>\n",
       "      <th>7997</th>\n",
       "      <td>u106486</td>\n",
       "      <td>8.041412</td>\n",
       "      <td>7.502415</td>\n",
       "      <td>7.279272</td>\n",
       "      <td>7.907880</td>\n",
       "      <td>7.907880</td>\n",
       "      <td>8.377884</td>\n",
       "      <td>0</td>\n",
       "    </tr>\n",
       "    <tr>\n",
       "      <th>7998</th>\n",
       "      <td>u102220</td>\n",
       "      <td>7.790097</td>\n",
       "      <td>8.377884</td>\n",
       "      <td>8.377884</td>\n",
       "      <td>8.195562</td>\n",
       "      <td>8.377884</td>\n",
       "      <td>9.294175</td>\n",
       "      <td>0</td>\n",
       "    </tr>\n",
       "    <tr>\n",
       "      <th>7999</th>\n",
       "      <td>u105118</td>\n",
       "      <td>8.195562</td>\n",
       "      <td>8.377884</td>\n",
       "      <td>8.888710</td>\n",
       "      <td>9.294175</td>\n",
       "      <td>8.601027</td>\n",
       "      <td>8.888710</td>\n",
       "      <td>0</td>\n",
       "    </tr>\n",
       "  </tbody>\n",
       "</table>\n",
       "<p>8000 rows × 8 columns</p>\n",
       "</div>"
      ],
      "text/plain": [
       "          uid         1         2         3         4         5         6  \\\n",
       "0     u105138  8.601027  8.377884  8.601027  9.294175  8.195562  8.601027   \n",
       "1     u108690  8.601027  8.888710  9.294175  8.195562  8.888710  7.790097   \n",
       "2     u108339  8.195562  9.294175  8.377884  8.601027  8.377884  7.790097   \n",
       "3     u101138  8.377884  8.195562  8.888710  8.601027  8.195562  8.377884   \n",
       "4     u108248  8.377884  8.041412  8.601027  8.195562  8.377884  8.041412   \n",
       "...       ...       ...       ...       ...       ...       ...       ...   \n",
       "7995  u107463  7.589427  8.377884  7.502415  8.377884  7.907880  9.294175   \n",
       "7996  u101241  7.907880  8.601027  8.601027  8.195562  8.601027  9.294175   \n",
       "7997  u106486  8.041412  7.502415  7.279272  7.907880  7.907880  8.377884   \n",
       "7998  u102220  7.790097  8.377884  8.377884  8.195562  8.377884  9.294175   \n",
       "7999  u105118  8.195562  8.377884  8.888710  9.294175  8.601027  8.888710   \n",
       "\n",
       "      churn  \n",
       "0         0  \n",
       "1         1  \n",
       "2         1  \n",
       "3         0  \n",
       "4         1  \n",
       "...     ...  \n",
       "7995      0  \n",
       "7996      0  \n",
       "7997      0  \n",
       "7998      0  \n",
       "7999      0  \n",
       "\n",
       "[8000 rows x 8 columns]"
      ]
     },
     "execution_count": 18,
     "metadata": {},
     "output_type": "execute_result"
    }
   ],
   "source": [
    "X"
   ]
  },
  {
   "cell_type": "code",
   "execution_count": 19,
   "metadata": {},
   "outputs": [
    {
     "name": "stdout",
     "output_type": "stream",
     "text": [
      "Best Threshold=0.359563, F-Score=0.866, Precision=0.839, Recall=0.894\n",
      "ROC_AUC: 0.9892005349148206\n",
      "Confusion matrix, without normalization\n",
      "[[1713   42]\n",
      " [  27  218]]\n"
     ]
    },
    {
     "data": {
      "image/png": "[encoded data removed]",
      "text/plain": [
       "<Figure size 360x288 with 2 Axes>"
      ]
     },
     "metadata": {
      "needs_background": "light"
     },
     "output_type": "display_data"
    }
   ],
   "source": [
    "X_train, X_test, y_train, y_test = train_test_split(X[[i for i in range(1, 7)]], \n",
    "                                                        X['churn'], random_state=0)\n",
    "logreg = LogisticRegression()\n",
    "logreg.fit(X_train, y_train)\n",
    "preds = logreg.predict_proba(X_test)[:, 1]\n",
    "precision, recall, thresholds = precision_recall_curve(y_test, preds)\n",
    "fscore = (2 * precision * recall) / (precision + recall)\n",
    "ix = np.argmax(fscore)\n",
    "print('Best Threshold=%f, F-Score=%.3f, Precision=%.3f, Recall=%.3f' % (thresholds[ix], \n",
    "                                                                        fscore[ix],\n",
    "                                                                        precision[ix],\n",
    "                                                                        recall[ix]))\n",
    "\n",
    "roc_auc = roc_auc_score(y_test, preds)\n",
    "print(f'ROC_AUC: {roc_auc}')\n",
    "cnf_matrix = confusion_matrix(y_test, preds>thresholds[ix])\n",
    "plot_confusion_matrix(cnf_matrix, classes=['Non-Churn', 'churn'], title='Confusion matrix')\n",
    "tfidf_metrics = roc_auc, fscore[ix], precision[ix], recall[ix]"
   ]
  },
  {
   "cell_type": "markdown",
   "metadata": {},
   "source": [
    "6. Сформировать на выходе единую таблицу, сравнивающую качество 3 разных метода получения эмбедингов пользователей: mean, median, max, idf_mean по метрикам roc_auc, precision, recall, f_score.\n",
    "Сделать самостоятельные выводы и предположения о том, почему тот или ной способ оказался эффективнее остальных"
   ]
  },
  {
   "cell_type": "code",
   "execution_count": 28,
   "metadata": {},
   "outputs": [
    {
     "data": {
      "text/html": [
       "<div>\n",
       "<style scoped>\n",
       "    .dataframe tbody tr th:only-of-type {\n",
       "        vertical-align: middle;\n",
       "    }\n",
       "\n",
       "    .dataframe tbody tr th {\n",
       "        vertical-align: top;\n",
       "    }\n",
       "\n",
       "    .dataframe thead th {\n",
       "        text-align: right;\n",
       "    }\n",
       "</style>\n",
       "<table border=\"1\" class=\"dataframe\">\n",
       "  <thead>\n",
       "    <tr style=\"text-align: right;\">\n",
       "      <th></th>\n",
       "      <th>name</th>\n",
       "      <th>roc_auc</th>\n",
       "      <th>f1_score</th>\n",
       "      <th>precision</th>\n",
       "      <th>recall</th>\n",
       "    </tr>\n",
       "  </thead>\n",
       "  <tbody>\n",
       "    <tr>\n",
       "      <th>0</th>\n",
       "      <td>mean</td>\n",
       "      <td>0.944418</td>\n",
       "      <td>0.671698</td>\n",
       "      <td>0.624561</td>\n",
       "      <td>0.726531</td>\n",
       "    </tr>\n",
       "    <tr>\n",
       "      <th>1</th>\n",
       "      <td>median</td>\n",
       "      <td>0.943946</td>\n",
       "      <td>0.670683</td>\n",
       "      <td>0.660079</td>\n",
       "      <td>0.681633</td>\n",
       "    </tr>\n",
       "    <tr>\n",
       "      <th>2</th>\n",
       "      <td>max</td>\n",
       "      <td>0.976038</td>\n",
       "      <td>0.824242</td>\n",
       "      <td>0.816000</td>\n",
       "      <td>0.832653</td>\n",
       "    </tr>\n",
       "    <tr>\n",
       "      <th>3</th>\n",
       "      <td>tfidf</td>\n",
       "      <td>0.989201</td>\n",
       "      <td>0.865613</td>\n",
       "      <td>0.839080</td>\n",
       "      <td>0.893878</td>\n",
       "    </tr>\n",
       "  </tbody>\n",
       "</table>\n",
       "</div>"
      ],
      "text/plain": [
       "     name   roc_auc  f1_score  precision    recall\n",
       "0    mean  0.944418  0.671698   0.624561  0.726531\n",
       "1  median  0.943946  0.670683   0.660079  0.681633\n",
       "2     max  0.976038  0.824242   0.816000  0.832653\n",
       "3   tfidf  0.989201  0.865613   0.839080  0.893878"
      ]
     },
     "execution_count": 28,
     "metadata": {},
     "output_type": "execute_result"
    }
   ],
   "source": [
    "pd.DataFrame([('mean',*mean_metrics), ('median',*median_metrics), ('max',*max_metrics), ('tfidf',*tfidf_metrics)], columns=['name', 'roc_auc', 'f1_score', 'precision', 'recall'])"
   ]
  },
  {
   "cell_type": "markdown",
   "metadata": {},
   "source": [
    "В данной задаче, при применении тематического моделирования лучше всего показывает себя функция max при построении вектора признаков пользователей. Решение задачи при применении tfidf векторизации дает самый лучший результат.\n",
    "Возможно в задаче определения оттока пользователей чтение определенных статей влияет сильнее чем их тематика"
   ]
  },
  {
   "cell_type": "code",
   "execution_count": null,
   "metadata": {},
   "outputs": [],
   "source": []
  }
 ],
 "metadata": {
  "kernelspec": {
   "display_name": "Python 3",
   "language": "python",
   "name": "python3"
  },
  "language_info": {
   "codemirror_mode": {
    "name": "ipython",
    "version": 3
   },
   "file_extension": ".py",
   "mimetype": "text/x-python",
   "name": "python",
   "nbconvert_exporter": "python",
   "pygments_lexer": "ipython3",
   "version": "3.8.5"
  }
 },
 "nbformat": 4,
 "nbformat_minor": 4
}
